{
  "cells": [
    {
      "cell_type": "markdown",
      "metadata": {
        "id": "view-in-github",
        "colab_type": "text"
      },
      "source": [
        "<a href=\"https://colab.research.google.com/github/componavt/neural_synset/blob/master/src/dataset/wikt_labels_tokenizer.ipynb\" target=\"_parent\"><img src=\"https://colab.research.google.com/assets/colab-badge.svg\" alt=\"Open In Colab\"/></a>"
      ]
    },
    {
      "cell_type": "markdown",
      "source": [
        "# Loading labels with definitions"
      ],
      "metadata": {
        "id": "QYfY37MqO5dt"
      }
    },
    {
      "cell_type": "markdown",
      "metadata": {
        "id": "tDFTPRp_kZDn"
      },
      "source": [
        "Source code: [Loading a custom dataset](https://colab.research.google.com/github/huggingface/notebooks/blob/master/course/videos/load_custom_dataset.ipynb#scrollTo=D2ekPOyykZDq), [video](https://www.youtube.com/watch?v=HyQgpJTkRdE).\n",
        "\n",
        "Video: [The pipeline function](https://www.youtube.com/watch?v=tiZFewofSLM)."
      ]
    },
    {
      "cell_type": "markdown",
      "metadata": {
        "id": "oZ6SxVN7kZDp"
      },
      "source": [
        "Install the Transformers and Datasets libraries to run this notebook."
      ]
    },
    {
      "cell_type": "code",
      "execution_count": null,
      "metadata": {
        "id": "qGhcXHDgkZDq"
      },
      "outputs": [],
      "source": [
        "! pip install -U accelerate\n",
        "! pip install -U transformers\n",
        "\n",
        "! pip install datasets transformers[sentencepiece]\n",
        "! pip install torch               # required by TrainingArguments\n",
        "! pip install transformers[torch] # required by TrainingArguments"
      ]
    },
    {
      "cell_type": "code",
      "execution_count": null,
      "metadata": {
        "id": "D2ekPOyykZDq"
      },
      "outputs": [],
      "source": [
        "!wget https://github.com/componavt/neural_synset/raw/master/data/label_meaning.csv"
      ]
    },
    {
      "cell_type": "code",
      "source": [
        "cat label_meaning.csv"
      ],
      "metadata": {
        "id": "p12P46-URgjA",
        "outputId": "12b2254e-a9d9-420c-94f9-99bfc60e1a72",
        "colab": {
          "base_uri": "https://localhost:8080/"
        }
      },
      "execution_count": 3,
      "outputs": [
        {
          "output_type": "stream",
          "name": "stdout",
          "text": [
            "\"word\"|\"meaning\"|\"книжн.\"|\"ирон.\"|\"религ.\"|\"груб.\"\n",
            "подвизаться|осуществлять деятельность, работать, действовать в какой-нибудь области|1|1|0|0\n",
            "подвизаться|совершать подвиг в чём-либо, часто о ежедневном борении|0|0|1|0\n",
            "заткнуться|то же, что замолчать; перестать говорить, кричать, плакать; замолкнуть|0|0|0|1\n",
            "пустобрёх|тот, кто говорит много пустого и несерьёзного; болтун|0|0|0|1\n",
            "излаять|сильно изругать|0|0|0|1\n",
            "бизнес-дама|о предпринимательнице|0|1|0|0\n",
            "агнец божий|кроткий, робкий, безобидный человек|0|1|0|0\n",
            "всезнайка|человек, который считает себя знающим всё|0|1|0|0\n",
            "галантерейный|относящийся к галантерее|0|0|0|0\n",
            "галантерейный|чрезмерно любезный, вежливый до слащавости|0|1|0|0\n",
            "дитятя|дитя, ребёнок, чадо|0|1|0|0\n"
          ]
        }
      ]
    },
    {
      "cell_type": "code",
      "execution_count": 4,
      "metadata": {
        "id": "aDxEoWmpkZDr",
        "outputId": "2136745c-2cc9-4555-e718-633840eea0aa",
        "colab": {
          "base_uri": "https://localhost:8080/",
          "height": 66,
          "referenced_widgets": [
            "215036b588044101bcaec5eab21f0d47",
            "5abcd14f9af949be830c6cea0dcdeccb",
            "9ec40f96173a400ea0d5ba80ecf0cdf0",
            "39439ba97c4a4fa0bcf2caa5baafd560",
            "79fb80b77f084a1ab21479f67fe11f22",
            "11330c916a194a49ad8de2b5004045aa",
            "05df382b7c3d4d508dc435f0ee6bc9d9",
            "911cc62e2dad4b26a5818801823dbf70",
            "2e5bcd859c2e4d7eaf613e8f162da7a6",
            "aac321c998014dc9b7454d1bea7c1db1",
            "f75a1aa12d7a4d7fa17545abbad23076"
          ]
        }
      },
      "outputs": [
        {
          "output_type": "display_data",
          "data": {
            "text/plain": [
              "Generating train split: 0 examples [00:00, ? examples/s]"
            ],
            "application/vnd.jupyter.widget-view+json": {
              "version_major": 2,
              "version_minor": 0,
              "model_id": "215036b588044101bcaec5eab21f0d47"
            }
          },
          "metadata": {}
        },
        {
          "output_type": "stream",
          "name": "stdout",
          "text": [
            "подвизаться = осуществлять деятельность, работать, действовать в какой-нибудь области\n"
          ]
        }
      ],
      "source": [
        "from datasets import load_dataset\n",
        "\n",
        "ds = load_dataset(\"csv\", data_files=\"label_meaning.csv\", sep=\"|\")  # , split='train')\n",
        "print(ds[\"train\"][0][\"word\"], \"=\", ds[\"train\"][0][\"meaning\"], )"
      ]
    },
    {
      "cell_type": "code",
      "source": [
        "# Don't uncomment the following line unless your dataset is small!\n",
        "# training_corpus = [ds[\"train\"][i: i + 1000][\"meaning\"] for i in range(0, len(ds[\"train\"]), 1000)]\n",
        "# training_corpus"
      ],
      "metadata": {
        "id": "ftf9TzXcETjW"
      },
      "execution_count": null,
      "outputs": []
    },
    {
      "cell_type": "code",
      "source": [
        "# create corpus of strings, see https://huggingface.co/learn/nlp-course/chapter6/2 (Training a new tokenizer from an old one)\n",
        "#training_corpus = (\n",
        "#    ds[\"train\"][i : i + 1000][\"meaning\"]\n",
        "#    for i in range(0, len(ds[\"train\"]), 1000)\n",
        "#)\n",
        "#training_corpus"
      ],
      "metadata": {
        "id": "2eVyFa-sECFB"
      },
      "execution_count": null,
      "outputs": []
    },
    {
      "cell_type": "code",
      "execution_count": 23,
      "metadata": {
        "id": "jkxsM9tFkZDu"
      },
      "outputs": [],
      "source": [
        "def get_training_corpus(dataset):\n",
        "    d = dataset[\"train\"]\n",
        "    for i in range(0, len(d), 1000):\n",
        "        samples = d[i : i + 1000]\n",
        "        yield samples[\"meaning\"]\n",
        "training_corpus = get_training_corpus(ds)"
      ]
    },
    {
      "cell_type": "code",
      "source": [
        "#def meaning_iterator():\n",
        "#    for i in range(0, len(da[\"train\"]), 1):\n",
        "#        yield da[\"train\"][i][\"meaning\"]\n",
        "#print(len(datushka[\"train\"]))\n",
        "print(list(training_corpus))"
      ],
      "metadata": {
        "id": "T9W53vwBJOjP",
        "outputId": "0ca15e0d-e7e6-43a7-f027-d559e2aa133d",
        "colab": {
          "base_uri": "https://localhost:8080/"
        }
      },
      "execution_count": 24,
      "outputs": [
        {
          "output_type": "stream",
          "name": "stdout",
          "text": [
            "[['осуществлять деятельность, работать, действовать в какой-нибудь области', 'совершать подвиг в чём-либо, часто о ежедневном борении', 'то же, что замолчать; перестать говорить, кричать, плакать; замолкнуть', 'тот, кто говорит много пустого и несерьёзного; болтун', 'сильно изругать', 'о предпринимательнице', 'кроткий, робкий, безобидный человек', 'человек, который считает себя знающим всё', 'относящийся к галантерее', 'чрезмерно любезный, вежливый до слащавости', 'дитя, ребёнок, чадо']]\n"
          ]
        }
      ]
    },
    {
      "cell_type": "markdown",
      "source": [
        "# AutoTokenizer and PyTorch optimized training loop\n",
        "From [quicktour.ipynb#AutoTokenizer](https://colab.research.google.com/github/huggingface/notebooks/blob/main/transformers_doc/en/quicktour.ipynb#scrollTo=c-mB_1hXw57y&line=1&uniqifier=1)"
      ],
      "metadata": {
        "id": "H_lPKhRJ1T49"
      }
    },
    {
      "cell_type": "code",
      "source": [
        "# setup hyperparameters (learning rate, batch size, and the number of epochs to train for)\n",
        "from transformers import TrainingArguments\n",
        "training_args = TrainingArguments(\n",
        "    output_dir=\"./pt_training\",\n",
        "    learning_rate=2e-5,\n",
        "    per_device_train_batch_size=8,\n",
        "    per_device_eval_batch_size=8,\n",
        "    num_train_epochs=2,\n",
        "    )"
      ],
      "metadata": {
        "id": "zLrOxl5ABhgt"
      },
      "execution_count": 25,
      "outputs": []
    },
    {
      "cell_type": "code",
      "execution_count": null,
      "metadata": {
        "id": "fd9pj1zd4ziV"
      },
      "outputs": [],
      "source": [
        "from transformers import AutoTokenizer, AutoModelForSequenceClassification\n",
        "\n",
        "model_name = \"MoritzLaurer/mDeBERTa-v3-base-mnli-xnli\"\n",
        "model_name2 = \"Babelscape/wikineural-multilingual-ner\"     # see https://huggingface.co/Babelscape/wikineural-multilingual-ner\n",
        "model_name3 = \"orgcatorg/bert-base-multilingual-cased-ner\" # see https://huggingface.co/orgcatorg/bert-base-multilingual-cased-ner\n",
        "pt_model    = AutoModelForSequenceClassification.from_pretrained(model_name)\n",
        "tokenizer   = AutoTokenizer.from_pretrained(model_name)\n",
        "tokenizer2  = AutoTokenizer.from_pretrained(model_name2)\n",
        "tokenizer3  = AutoTokenizer.from_pretrained(model_name3)"
      ]
    },
    {
      "cell_type": "code",
      "source": [
        "tokenizer_new  = tokenizer.train_new_from_iterator(training_corpus, 52000)\n",
        "tokenizer_new2 = tokenizer2.train_new_from_iterator(training_corpus, 52000)\n",
        "tokenizer_new3 = tokenizer3.train_new_from_iterator(training_corpus, 52000)"
      ],
      "metadata": {
        "id": "HNLE3gXgNKB0"
      },
      "execution_count": 28,
      "outputs": []
    },
    {
      "cell_type": "code",
      "source": [
        "# ds[\"train\"][0][\"meaning\"]"
      ],
      "metadata": {
        "id": "QxJ6aP5PTDUQ"
      },
      "execution_count": null,
      "outputs": []
    },
    {
      "cell_type": "code",
      "source": [
        "s = ds[\"train\"][0][\"meaning\"]\n",
        "print(s)\n",
        "#tokens_old = old_tokenizer.tokenize(s)\n",
        "print(tokenizer(s),  \"tokens by MoritzLaurer/mDeBERTa-v3-base-mnli-xnli\")\n",
        "print(tokenizer2(s), \"tokens by Babelscape/wikineural-multilingual-ner\")     # subword tokenization\n",
        "print(tokenizer3(s), \"tokens by orgcatorg/bert-base-multilingual-cased-ner\") # subword tokenization\n",
        "\n",
        "#tokens = tokenizer.tokenize( ds[\"train\"][0][\"meaning\"] )\n",
        "#print(\"tokens=\", tokens)"
      ],
      "metadata": {
        "id": "SwziPWJf4-ab",
        "outputId": "4ff51ae7-b627-4d96-eb00-f148c0b1e06c",
        "colab": {
          "base_uri": "https://localhost:8080/"
        }
      },
      "execution_count": 29,
      "outputs": [
        {
          "output_type": "stream",
          "name": "stdout",
          "text": [
            "осуществлять деятельность, работать, действовать в какой-нибудь области\n",
            "{'input_ids': [1, 24527, 22857, 73608, 834, 262, 260, 28877, 262, 19384, 16877, 316, 1067, 818, 265, 669, 14320, 9407, 2], 'token_type_ids': [0, 0, 0, 0, 0, 0, 0, 0, 0, 0, 0, 0, 0, 0, 0, 0, 0, 0, 0], 'attention_mask': [1, 1, 1, 1, 1, 1, 1, 1, 1, 1, 1, 1, 1, 1, 1, 1, 1, 1, 1]} tokens by MoritzLaurer/mDeBERTa-v3-base-mnli-xnli\n",
            "{'input_ids': [101, 85854, 10227, 92157, 32589, 34112, 117, 45680, 117, 105805, 76183, 543, 78351, 118, 19544, 91369, 11431, 102], 'token_type_ids': [0, 0, 0, 0, 0, 0, 0, 0, 0, 0, 0, 0, 0, 0, 0, 0, 0, 0], 'attention_mask': [1, 1, 1, 1, 1, 1, 1, 1, 1, 1, 1, 1, 1, 1, 1, 1, 1, 1]} tokens by Babelscape/wikineural-multilingual-ner\n",
            "{'input_ids': [101, 85854, 10227, 92157, 32589, 34112, 117, 45680, 117, 105805, 76183, 543, 78351, 118, 19544, 91369, 11431, 102], 'token_type_ids': [0, 0, 0, 0, 0, 0, 0, 0, 0, 0, 0, 0, 0, 0, 0, 0, 0, 0], 'attention_mask': [1, 1, 1, 1, 1, 1, 1, 1, 1, 1, 1, 1, 1, 1, 1, 1, 1, 1]} tokens by orgcatorg/bert-base-multilingual-cased-ner\n"
          ]
        }
      ]
    },
    {
      "cell_type": "code",
      "source": [
        "def tokenize_dataset(dataset):\n",
        "  return tokenizer(dataset[\"meaning\"])"
      ],
      "metadata": {
        "id": "L4sWD7ui631j"
      },
      "execution_count": 30,
      "outputs": []
    },
    {
      "cell_type": "code",
      "source": [
        "ds[\"train\"]\n",
        "#ds"
      ],
      "metadata": {
        "id": "wBWt_Wft-1SG"
      },
      "execution_count": null,
      "outputs": []
    },
    {
      "cell_type": "code",
      "source": [
        "#dataset = ds[\"train\"].map(tokenize_dataset, batched=True)\n",
        "dataset = ds.map(tokenize_dataset, batched=True)\n",
        "dataset"
      ],
      "metadata": {
        "id": "SGRkEGT2_ZNH"
      },
      "execution_count": null,
      "outputs": []
    },
    {
      "cell_type": "code",
      "source": [
        "# create a batch of examples from dataset\n",
        "from transformers import DataCollatorWithPadding\n",
        "data_collator = DataCollatorWithPadding(tokenizer=tokenizer)\n",
        "data_collator"
      ],
      "metadata": {
        "id": "mE7Lmm9yAWLg"
      },
      "execution_count": null,
      "outputs": []
    },
    {
      "cell_type": "code",
      "source": [
        "# 80% train, 20% test + validation\n",
        "dataset = dataset['train'].train_test_split(test_size=0.2, shuffle=True)\n",
        "dataset"
      ],
      "metadata": {
        "id": "X5fFPfUMJRy-"
      },
      "execution_count": null,
      "outputs": []
    },
    {
      "cell_type": "code",
      "source": [
        "# gather all these classes in Trainer:\n",
        "from transformers import Trainer\n",
        "trainer = Trainer(\n",
        "    model=pt_model,\n",
        "    args=training_args,\n",
        "    train_dataset=dataset[\"train\"],\n",
        "    eval_dataset=dataset[\"test\"],\n",
        "    tokenizer=tokenizer,\n",
        "    data_collator=data_collator,\n",
        ")  # doctest: +SKIP"
      ],
      "metadata": {
        "id": "z83EmcCuAqop",
        "outputId": "0c1da04e-bf91-425d-b678-ee676294bf2f",
        "colab": {
          "base_uri": "https://localhost:8080/"
        }
      },
      "execution_count": 35,
      "outputs": [
        {
          "output_type": "stream",
          "name": "stderr",
          "text": [
            "/usr/local/lib/python3.10/dist-packages/accelerate/accelerator.py:432: FutureWarning: Passing the following arguments to `Accelerator` is deprecated and will be removed in version 1.0 of Accelerate: dict_keys(['dispatch_batches', 'split_batches', 'even_batches', 'use_seedable_sampler']). Please pass an `accelerate.DataLoaderConfiguration` instead: \n",
            "dataloader_config = DataLoaderConfiguration(dispatch_batches=None, split_batches=False, even_batches=True, use_seedable_sampler=True)\n",
            "  warnings.warn(\n"
          ]
        }
      ]
    },
    {
      "cell_type": "code",
      "source": [
        "trainer.train()\n",
        "\n",
        "#see https://discuss.huggingface.co/t/the-model-did-not-return-a-loss-from-the-inputs-only-the-following-keys-logits-for-reference-the-inputs-it-received-are-input-values/25420"
      ],
      "metadata": {
        "id": "G2UZzJOWgTgu"
      },
      "execution_count": null,
      "outputs": []
    }
  ],
  "metadata": {
    "colab": {
      "provenance": [],
      "toc_visible": true,
      "gpuType": "T4",
      "include_colab_link": true
    },
    "language_info": {
      "name": "python"
    },
    "kernelspec": {
      "name": "python3",
      "display_name": "Python 3"
    },
    "accelerator": "GPU",
    "widgets": {
      "application/vnd.jupyter.widget-state+json": {
        "215036b588044101bcaec5eab21f0d47": {
          "model_module": "@jupyter-widgets/controls",
          "model_name": "HBoxModel",
          "model_module_version": "1.5.0",
          "state": {
            "_dom_classes": [],
            "_model_module": "@jupyter-widgets/controls",
            "_model_module_version": "1.5.0",
            "_model_name": "HBoxModel",
            "_view_count": null,
            "_view_module": "@jupyter-widgets/controls",
            "_view_module_version": "1.5.0",
            "_view_name": "HBoxView",
            "box_style": "",
            "children": [
              "IPY_MODEL_5abcd14f9af949be830c6cea0dcdeccb",
              "IPY_MODEL_9ec40f96173a400ea0d5ba80ecf0cdf0",
              "IPY_MODEL_39439ba97c4a4fa0bcf2caa5baafd560"
            ],
            "layout": "IPY_MODEL_79fb80b77f084a1ab21479f67fe11f22"
          }
        },
        "5abcd14f9af949be830c6cea0dcdeccb": {
          "model_module": "@jupyter-widgets/controls",
          "model_name": "HTMLModel",
          "model_module_version": "1.5.0",
          "state": {
            "_dom_classes": [],
            "_model_module": "@jupyter-widgets/controls",
            "_model_module_version": "1.5.0",
            "_model_name": "HTMLModel",
            "_view_count": null,
            "_view_module": "@jupyter-widgets/controls",
            "_view_module_version": "1.5.0",
            "_view_name": "HTMLView",
            "description": "",
            "description_tooltip": null,
            "layout": "IPY_MODEL_11330c916a194a49ad8de2b5004045aa",
            "placeholder": "​",
            "style": "IPY_MODEL_05df382b7c3d4d508dc435f0ee6bc9d9",
            "value": "Generating train split: "
          }
        },
        "9ec40f96173a400ea0d5ba80ecf0cdf0": {
          "model_module": "@jupyter-widgets/controls",
          "model_name": "FloatProgressModel",
          "model_module_version": "1.5.0",
          "state": {
            "_dom_classes": [],
            "_model_module": "@jupyter-widgets/controls",
            "_model_module_version": "1.5.0",
            "_model_name": "FloatProgressModel",
            "_view_count": null,
            "_view_module": "@jupyter-widgets/controls",
            "_view_module_version": "1.5.0",
            "_view_name": "ProgressView",
            "bar_style": "success",
            "description": "",
            "description_tooltip": null,
            "layout": "IPY_MODEL_911cc62e2dad4b26a5818801823dbf70",
            "max": 1,
            "min": 0,
            "orientation": "horizontal",
            "style": "IPY_MODEL_2e5bcd859c2e4d7eaf613e8f162da7a6",
            "value": 1
          }
        },
        "39439ba97c4a4fa0bcf2caa5baafd560": {
          "model_module": "@jupyter-widgets/controls",
          "model_name": "HTMLModel",
          "model_module_version": "1.5.0",
          "state": {
            "_dom_classes": [],
            "_model_module": "@jupyter-widgets/controls",
            "_model_module_version": "1.5.0",
            "_model_name": "HTMLModel",
            "_view_count": null,
            "_view_module": "@jupyter-widgets/controls",
            "_view_module_version": "1.5.0",
            "_view_name": "HTMLView",
            "description": "",
            "description_tooltip": null,
            "layout": "IPY_MODEL_aac321c998014dc9b7454d1bea7c1db1",
            "placeholder": "​",
            "style": "IPY_MODEL_f75a1aa12d7a4d7fa17545abbad23076",
            "value": " 11/0 [00:00&lt;00:00, 162.44 examples/s]"
          }
        },
        "79fb80b77f084a1ab21479f67fe11f22": {
          "model_module": "@jupyter-widgets/base",
          "model_name": "LayoutModel",
          "model_module_version": "1.2.0",
          "state": {
            "_model_module": "@jupyter-widgets/base",
            "_model_module_version": "1.2.0",
            "_model_name": "LayoutModel",
            "_view_count": null,
            "_view_module": "@jupyter-widgets/base",
            "_view_module_version": "1.2.0",
            "_view_name": "LayoutView",
            "align_content": null,
            "align_items": null,
            "align_self": null,
            "border": null,
            "bottom": null,
            "display": null,
            "flex": null,
            "flex_flow": null,
            "grid_area": null,
            "grid_auto_columns": null,
            "grid_auto_flow": null,
            "grid_auto_rows": null,
            "grid_column": null,
            "grid_gap": null,
            "grid_row": null,
            "grid_template_areas": null,
            "grid_template_columns": null,
            "grid_template_rows": null,
            "height": null,
            "justify_content": null,
            "justify_items": null,
            "left": null,
            "margin": null,
            "max_height": null,
            "max_width": null,
            "min_height": null,
            "min_width": null,
            "object_fit": null,
            "object_position": null,
            "order": null,
            "overflow": null,
            "overflow_x": null,
            "overflow_y": null,
            "padding": null,
            "right": null,
            "top": null,
            "visibility": null,
            "width": null
          }
        },
        "11330c916a194a49ad8de2b5004045aa": {
          "model_module": "@jupyter-widgets/base",
          "model_name": "LayoutModel",
          "model_module_version": "1.2.0",
          "state": {
            "_model_module": "@jupyter-widgets/base",
            "_model_module_version": "1.2.0",
            "_model_name": "LayoutModel",
            "_view_count": null,
            "_view_module": "@jupyter-widgets/base",
            "_view_module_version": "1.2.0",
            "_view_name": "LayoutView",
            "align_content": null,
            "align_items": null,
            "align_self": null,
            "border": null,
            "bottom": null,
            "display": null,
            "flex": null,
            "flex_flow": null,
            "grid_area": null,
            "grid_auto_columns": null,
            "grid_auto_flow": null,
            "grid_auto_rows": null,
            "grid_column": null,
            "grid_gap": null,
            "grid_row": null,
            "grid_template_areas": null,
            "grid_template_columns": null,
            "grid_template_rows": null,
            "height": null,
            "justify_content": null,
            "justify_items": null,
            "left": null,
            "margin": null,
            "max_height": null,
            "max_width": null,
            "min_height": null,
            "min_width": null,
            "object_fit": null,
            "object_position": null,
            "order": null,
            "overflow": null,
            "overflow_x": null,
            "overflow_y": null,
            "padding": null,
            "right": null,
            "top": null,
            "visibility": null,
            "width": null
          }
        },
        "05df382b7c3d4d508dc435f0ee6bc9d9": {
          "model_module": "@jupyter-widgets/controls",
          "model_name": "DescriptionStyleModel",
          "model_module_version": "1.5.0",
          "state": {
            "_model_module": "@jupyter-widgets/controls",
            "_model_module_version": "1.5.0",
            "_model_name": "DescriptionStyleModel",
            "_view_count": null,
            "_view_module": "@jupyter-widgets/base",
            "_view_module_version": "1.2.0",
            "_view_name": "StyleView",
            "description_width": ""
          }
        },
        "911cc62e2dad4b26a5818801823dbf70": {
          "model_module": "@jupyter-widgets/base",
          "model_name": "LayoutModel",
          "model_module_version": "1.2.0",
          "state": {
            "_model_module": "@jupyter-widgets/base",
            "_model_module_version": "1.2.0",
            "_model_name": "LayoutModel",
            "_view_count": null,
            "_view_module": "@jupyter-widgets/base",
            "_view_module_version": "1.2.0",
            "_view_name": "LayoutView",
            "align_content": null,
            "align_items": null,
            "align_self": null,
            "border": null,
            "bottom": null,
            "display": null,
            "flex": null,
            "flex_flow": null,
            "grid_area": null,
            "grid_auto_columns": null,
            "grid_auto_flow": null,
            "grid_auto_rows": null,
            "grid_column": null,
            "grid_gap": null,
            "grid_row": null,
            "grid_template_areas": null,
            "grid_template_columns": null,
            "grid_template_rows": null,
            "height": null,
            "justify_content": null,
            "justify_items": null,
            "left": null,
            "margin": null,
            "max_height": null,
            "max_width": null,
            "min_height": null,
            "min_width": null,
            "object_fit": null,
            "object_position": null,
            "order": null,
            "overflow": null,
            "overflow_x": null,
            "overflow_y": null,
            "padding": null,
            "right": null,
            "top": null,
            "visibility": null,
            "width": "20px"
          }
        },
        "2e5bcd859c2e4d7eaf613e8f162da7a6": {
          "model_module": "@jupyter-widgets/controls",
          "model_name": "ProgressStyleModel",
          "model_module_version": "1.5.0",
          "state": {
            "_model_module": "@jupyter-widgets/controls",
            "_model_module_version": "1.5.0",
            "_model_name": "ProgressStyleModel",
            "_view_count": null,
            "_view_module": "@jupyter-widgets/base",
            "_view_module_version": "1.2.0",
            "_view_name": "StyleView",
            "bar_color": null,
            "description_width": ""
          }
        },
        "aac321c998014dc9b7454d1bea7c1db1": {
          "model_module": "@jupyter-widgets/base",
          "model_name": "LayoutModel",
          "model_module_version": "1.2.0",
          "state": {
            "_model_module": "@jupyter-widgets/base",
            "_model_module_version": "1.2.0",
            "_model_name": "LayoutModel",
            "_view_count": null,
            "_view_module": "@jupyter-widgets/base",
            "_view_module_version": "1.2.0",
            "_view_name": "LayoutView",
            "align_content": null,
            "align_items": null,
            "align_self": null,
            "border": null,
            "bottom": null,
            "display": null,
            "flex": null,
            "flex_flow": null,
            "grid_area": null,
            "grid_auto_columns": null,
            "grid_auto_flow": null,
            "grid_auto_rows": null,
            "grid_column": null,
            "grid_gap": null,
            "grid_row": null,
            "grid_template_areas": null,
            "grid_template_columns": null,
            "grid_template_rows": null,
            "height": null,
            "justify_content": null,
            "justify_items": null,
            "left": null,
            "margin": null,
            "max_height": null,
            "max_width": null,
            "min_height": null,
            "min_width": null,
            "object_fit": null,
            "object_position": null,
            "order": null,
            "overflow": null,
            "overflow_x": null,
            "overflow_y": null,
            "padding": null,
            "right": null,
            "top": null,
            "visibility": null,
            "width": null
          }
        },
        "f75a1aa12d7a4d7fa17545abbad23076": {
          "model_module": "@jupyter-widgets/controls",
          "model_name": "DescriptionStyleModel",
          "model_module_version": "1.5.0",
          "state": {
            "_model_module": "@jupyter-widgets/controls",
            "_model_module_version": "1.5.0",
            "_model_name": "DescriptionStyleModel",
            "_view_count": null,
            "_view_module": "@jupyter-widgets/base",
            "_view_module_version": "1.2.0",
            "_view_name": "StyleView",
            "description_width": ""
          }
        }
      }
    }
  },
  "nbformat": 4,
  "nbformat_minor": 0
}